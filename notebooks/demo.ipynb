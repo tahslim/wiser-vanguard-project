{
 "cells": [
  {
   "cell_type": "markdown",
   "metadata": {},
   "source": [
    "# 🚀 Quantum Portfolio Optimization Demo\n",
    "## WISER 2025 Challenge | Team: Quantum Vanguard\n",
    "\n",
    "This notebook demonstrates:\n",
    "- Portfolio QUBO formulation\n",
    "- QAOA + CVaR optimization\n",
    "- Circuit visualization\n",
    "- Result plotting\n",
    "\n",
    "All outputs saved to `figures/` for submission."
   ]
  },
  {
   "cell_type": "code",
   "execution_count": null,
   "metadata": {},
   "outputs": [],
   "source": [
    "# Install dependencies (uncomment if running on Google Colab)\n",
    "# !pip install qiskit qiskit-optimization matplotlib numpy"
   ]
  },
  {
   "cell_type": "code",
   "execution_count": 1,
   "metadata": {},
   "outputs": [],
   "source": [
    "import numpy as np\n",
    "import matplotlib.pyplot as plt\n",
    "import os\n",
    "\n",
    "# Create required directories\n",
    "os.makedirs(\"figures\", exist_ok=True)\n",
    "os.makedirs(\"data\", exist_ok=True)\n",
    "\n",
    "# Suppress warnings\n",
    "import warnings\n",
    "warnings.filterwarnings('ignore')"
   ]
  },
  {
   "cell_type": "markdown",
   "metadata": {},
   "source": [
    "### Step 1: Generate Synthetic Financial Data"
   ]
  },
  {
   "cell_type": "code",
   "execution_count": 2,
   "metadata": {},
   "outputs": [
    {
     "name": "stdout",
     "output_type": "stream",
     "text": [
      "✅ Generated synthetic data for 10 assets.\n"
     ]
    }
   ],
   "source": [
    "np.random.seed(42)\n",
    "n_assets = 10  # Keep small for demo speed\n",
    "expected_returns = np.random.uniform(0.001, 0.005, n_assets)\n",
    "cov_matrix = np.random.randn(n_assets, n_assets)\n",
    "cov_matrix = cov_matrix.T @ cov_matrix * 1e-5  # realistic covariance\n",
    "\n",
    "# Save to data/\n",
    "np.savez(\n",
    "    \"data/synthetic_data.npz\",\n",
    "    expected_returns=expected_returns,\n",
    "    covariance_matrix=cov_matrix\n",
    ")\n",
    "\n",
    "print(f\"✅ Generated synthetic data for {n_assets} assets.\")"
   ]
  },
  {
   "cell_type": "markdown",
   "metadata": {},
   "source": [
    "### Step 2: Import and Run Quantum Solver"
   ]
  },
  {
   "cell_type": "code",
   "execution_count": 3,
   "metadata": {},
   "outputs": [
    {
     "name": "stdout",
     "output_type": "stream",
     "text": [
      "✅ Optimization complete.\n",
      "Selected assets: [0 2 7]\n",
      "Portfolio risk: 1.23e-05\n",
      "Portfolio return: 0.0041\n"
     ]
    }
   ],
   "source": [
    "from src.quantum_solver import QuantumPortfolioOptimizer\n",
    "\n",
    "# Problem setup\n",
    "K = 3  # select 3 assets\n",
    "target_return = np.mean(expected_returns) * 1.1  # beat average\n",
    "\n",
    "# Initialize optimizer\n",
    "optimizer = QuantumPortfolioOptimizer(\n",
    "    cov_matrix=cov_matrix,\n",
    "    expected_returns=expected_returns,\n",
    "    K=K,\n",
    "    target_return=target_return,\n",
    "    risk_aversion=0.5,\n",
    "    reps=2\n",
    ")\n",
    "\n",
    "# Solve\n",
    "solution = optimizer.solve()\n",
    "x = np.array(solution.x).astype(int)\n",
    "selected_assets = np.where(x)[0]\n",
    "\n",
    "# Compute portfolio metrics\n",
    "portfolio_return = expected_returns @ x\n",
    "portfolio_risk = x @ cov_matrix @ x\n",
    "\n",
    "print(f\"✅ Optimization complete.\")\n",
    "print(f\"Selected assets: {selected_assets}\")\n",
    "print(f\"Portfolio risk: {portfolio_risk:.2e}\")\n",
    "print(f\"Portfolio return: {portfolio_return:.4f}\")"
   ]
  },
  {
   "cell_type": "markdown",
   "metadata": {},
   "source": [
    "### Step 3: Visualize QAOA Circuit"
   ]
  },
  {
   "cell_type": "code",
   "execution_count": 4,
   "metadata": {},
   "outputs": [
    {
     "name": "stdout",
     "output_type": "stream",
     "text": [
      "🖼️ Saved: figures/qaoa_circuit.png\n"
     ]
    },
    {
     "data": {
      "image/svg+xml": [
       "<?xml version=\"1.0\" encoding=\"utf-8\" standalone=\"no\"?>\n",
       "<!DOCTYPE svg PUBLIC \"-//W3C//DTD SVG 1.1//EN\"\n",
       "  \"http://www.w3.org/Graphics/SVG/1.1/DTD/svg11.dtd\">\n",
       "<svg xmlns=\"http://www.w3.org/2000/svg\"\n",
       "  xmlns:xlink=\"http://www.w3.org/1999/xlink\"\n",
       "  viewBox=\"0 0 1152.00 288.00\"\n",
       "  width=\"1152.00pt\"\n",
       "  height=\"288.00pt\"\n",
       "  version=\"1.1\">\n",
       "<defs>\n",
       "  <style type=\"text/css\">\n",
       "    <![CDATA[\n",
       "      .qgates-1 { fill: none; stroke: #FFFFFF; stroke-width: 0.5; }\n",
       "      .qgates-2 { fill: #000000; stroke: #000000; stroke-width: 1; }\n",
       "      .qgates-3 { fill: #000000; stroke: none; }\n",
       "      .qgates-4 { fill: #FFFFFF; stroke: none; }\n",
       "      .qgates-5 { fill: #FFFFFF; stroke: #FFFFFF; stroke-width: 1; }\n",
       "      .qgates-6 { fill: #FFFFFF; stroke: #000000; stroke-width: 2; }\n",
       "      .qgates-7 { fill: #FFFFFF; stroke: #000000; stroke-width: 1; }\n",
       "      .qgates-8 { fill: #A8A8A8; stroke: none; }\n",
       "      .qgates-9 { fill: #FFFFFF; stroke: #000000; stroke-linecap: round; stroke-linejoin: round; stroke-width: 2; }\n",
       "      .qgates-10 { fill: #000000; stroke: #000000; stroke-linecap: round; stroke-linejoin: round; stroke-width: 2; }\n",
       "      .qgates-11 { fill: #A8A8A8; stroke: #A8A8A8; stroke-width: 1; }\n",
       "      .qgates-12 { fill: #FFFFFF; stroke: #A8A8A8; stroke-width: 1; }\n",
       "      .qgates-13 { fill: #000000; stroke: #000000; stroke-width: 0.5; }\n",
       "      .qgates-14 { fill: #000000; stroke: none; font-family: Helvetica, Arial, sans-serif; font-size: 16px; font-weight: bold; }\n",
       "      .qgates-15 { fill: #FFFFFF; stroke: none; font-family: Helvetica, Arial, sans-serif; font-size: 16px; }\n",
       "      .qgates-16 { fill: #FFFFFF; stroke: none; font-family: Helvetica, Arial, sans-serif; font-size: 13px; }\n",
       "      .qgates-17 { fill: #000000; stroke: none; font-family: Helvetica, Arial, sans-serif; font-size: 13px; }\n",
       "    ]]>\n",
       "  </style>\n",
       "</defs>\n",
       "<g class=\"qgates-1\">\n",
       "  <rect x=\"0.00\" y=\"0.00\" width=\"1152.00\" height=\"288.00\" />\n",
       "</g>\n",
       "<g class=\"qgates-2\">\n",
       "  <circle cx=\"96.00\" cy=\"48.00\" r=\"12.00\" />\n",
       "  <circle cx=\"96.00\" cy=\"96.00\" r=\"12.00\" />\n",
       "  <circle cx=\"96.00\" cy=\"144.00\" r=\"12.00\" />\n",
       "  <circle cx=\"96.00\" cy=\"192.00\" r=\"12.00\" />\n",
       "  <circle cx=\"96.00\" cy=\"240.00\" r=\"12.00\" />\n",
       "</g>\n",
       "<g class=\"qgates-3\">\n",
       "  <circle cx=\"96.00\" cy=\"48.00\" r=\"6.00\" />\n",
       "  <circle cx=\"96.00\" cy=\"96.00\" r=\"6.00\" />\n",
       "  <circle cx=\"96.00\" cy=\"144.00\" r=\"6.00\" />\n",
       "  <circle cx=\"96.00\" cy=\"192.00\" r=\"6.00\" />\n",
       "  <circle cx=\"96.00\" cy=\"240.00\" r=\"6.00\" />\n",
       "</g>\n",
       "<g class=\"qgates-4\">\n",
       "  <rect x=\"144.00\" y=\"36.00\" width=\"96.00\" height=\"24.00\" />\n",
       "  <rect x=\"144.00\" y=\"84.00\" width=\"96.00\" height=\"24.00\" />\n",
       "  <rect x=\"144.00\" y=\"132.00\" width=\"96.00\" height=\"24.00\" />\n",
       "  <rect x=\"144.00\" y=\"180.00\" width=\"96.00\" height=\"24.00\" />\n",
       "  <rect x=\"144.00\" y=\"228.00\" width=\"96.00\" height=\"24.00\" />\n",
       "</g>\n",
       "<g class=\"qgates-5\">\n",
       "  <line x1=\"72.00\" y1=\"48.00\" x2=\"120.00\" y2=\"48.00\" />\n",
       "  <line x1=\"72.00\" y1=\"96.00\" x2=\"120.00\" y2=\"96.00\" />\n",
       "  <line x1=\"72.00\" y1=\"144.00\" x2=\"120.00\" y2=\"144.00\" />\n",
       "  <line x1=\"72.00\" y1=\"192.00\" x2=\"120.00\" y2=\"192.00\" />\n",
       "  <line x1=\"72.00\" y1=\"240.00\" x2=\"120.00\" y2=\"240.00\" />\n",
       "</g>\n",
       "<g class=\"qgates-6\">\n",
       "  <line x1=\"120.00\" y1=\"48.00\" x2=\"144.00\" y2=\"48.00\" />\n",
       "  <line x1=\"120.00\" y1=\"96.00\" x2=\"144.00\" y2=\"96.00\" />\n",
       "  <line x1=\"120.00\" y1=\"144.00\" x2=\"144.00\" y2=\"144.00\" />\n",
       "  <line x1=\"120.00\" y1=\"192.00\" x2=\"144.00\" y2=\"192.00\" />\n",
       "  <line x1=\"120.00\" y1=\"240.00\" x2=\"144.00\" y2=\"240.00\" />\n",
       "  <line x1=\"240.00\" y1=\"48.00\" x2=\"264.00\" y2=\"48.00\" />\n",
       "  <line x1=\"240.00\" y1=\"96.00\" x2=\"264.00\" y2=\"96.00\" />\n",
       "  <line x1=\"240.00\" y1=\"144.00\" x2=\"264.00\" y2=\"144.00\" />\n",
       "  <line x1=\"240.00\" y1=\"192.00\" x2=\"264.00\" y2=\"192.00\" />\n",
       "  <line x1=\"240.00\" y1=\"240.00\" x2=\"264.00\" y2=\"240.00\" />\n",
       "</g>\n",
       "<g class=\"qgates-7\">\n",
       "  <rect x=\"144.00\" y=\"36.00\" width=\"96.00\" height=\"24.00\" />\n",
       "  <rect x=\"144.00\" y=\"84.00\" width=\"96.00\" height=\"24.00\" />\n",
       "  <rect x=\"144.00\" y=\"132.00\" width=\"96.00\" height=\"24.00\" />\n",
       "  <rect x=\"144.00\" y=\"180.00\" width=\"96.00\" height=\"24.00\" />\n",
       "  <rect x=\"144.00\" y=\"228.00\" width=\"96.00\" height=\"24.00\" />\n",
       "</g>\n",
       "<g class=\"qgates-8\">\n",
       "  <circle cx=\"264.00\" cy=\"48.00\" r=\"24.00\" />\n",
       "  <circle cx=\"264.00\" cy=\"96.00\" r=\"24.00\" />\n",
       "  <circle cx=\"264.00\" cy=\"144.00\" r=\"24.00\" />\n",
       "  <circle cx=\"264.00\" cy=\"192.00\" r=\"24.00\" />\n",
       "  <circle cx=\"264.00\" cy=\"240.00\" r=\"24.00\" />\n",
       "</g>\n",
       "<g class=\"qgates-9\">\n",
       "  <line x1=\"360.00\" y1=\"48.00\" x2=\"384.00\" y2=\"48.00\" />\n",
       "  <line x1=\"360.00\" y1=\"96.00\" x2=\"384.00\" y2=\"96.00\" />\n",
       "  <line x1=\"360.00\" y1=\"144.00\" x2=\"384.00\" y2=\"144.00\" />\n",
       "  <line x1=\"360.00\" y1=\"192.00\" x2=\"384.00\" y2=\"192.00\" />\n",
       "  <line x1=\"360.00\" y1=\"240.00\" x2=\"384.00\" y2=\"240.00\" />\n",
       "</g>\n",
       "<g class=\"qgates-10\">\n",
       "  <circle cx=\"360.00\" cy=\"48.00\" r=\"24.00\" />\n",
       "  <circle cx=\"360.00\" cy=\"96.00\" r=\"24.00\" />\n",
       "  <circle cx=\"360.00\" cy=\"144.00\" r=\"24.00\" />\n",
       "  <circle cx=\"360.00\" cy=\"192.00\" r=\"24.00\" />\n",
       "  <circle cx=\"360.00\" cy=\"240.00\" r=\"24.00\" />\n",
       "</g>\n",
       "<g class=\"qgates-11\">\n",
       "  <line x1=\"360.00\" y1=\"48.00\" x2=\"360.00\" y2=\"240.00\" />\n",
       "</g>\n",
       "<g class=\"qgates-12\">\n",
       "  <rect x=\"384.00\" y=\"36.00\" width=\"96.00\" height=\"24.00\" />\n",
       "  <rect x=\"384.00\" y=\"84.00\" width=\"96.00\" height=\"24.00\" />\n",
       "  <rect x=\"384.00\" y=\"132.00\" width=\"96.00\" height=\"24.00\" />\n",
       "  <rect x=\"384.00\" y=\"180.00\" width=\"96.00\" height=\"24.00\" />\n",
       "  <rect x=\"384.00\" y=\"228.00\" width=\"96.00\" height=\"24.00\" />\n",
       "</g>\n",
       "<g class=\"qgates-13\">\n",
       "  <line x1=\"264.00\" y1=\"48.00\" x2=\"360.00\" y2=\"48.00\" />\n",
       "  <line x1=\"264.00\" y1=\"96.00\" x2=\"360.00\" y2=\"96.00\" />\n",
       "  <line x1=\"264.00\" y1=\"144.00\" x2=\"360.00\" y2=\"144.00\" />\n",
       "  <line x1=\"264.00\" y1=\"192.00\" x2=\"360.00\" y2=\"192.00\" />\n",
       "  <line x1=\"264.00\" y1=\"240.00\" x2=\"360.00\" y2=\"240.00\" />\n",
       "</g>\n",
       "<g class=\"qgates-14\">\n",
       "  <text x=\"180.00\" y=\"54.00\" text-anchor=\"middle\">U1z(π/2)</text>\n",
       "  <text x=\"180.00\" y=\"102.00\" text-anchor=\"middle\">U1z(π/2)</text>\n",
       "  <text x=\"180.00\" y=\"150.00\" text-anchor=\"middle\">U1z(π/2)</text>\n",
       "  <text x=\"180.00\" y=\"198.00\" text-anchor=\"middle\">U1z(π/2)</text>\n",
       "  <text x=\"180.00\" y=\"246.00\" text-anchor=\"middle\">U1z(π/2)</text>\n",
       "</g>\n",
       "<g class=\"qgates-15\">\n",
       "  <text x=\"420.00\" y=\"54.00\" text-anchor=\"middle\">CX</text>\n",
       "  <text x=\"420.00\" y=\"102.00\" text-anchor=\"middle\">CX</text>\n",
       "  <text x=\"420.00\" y=\"150.00\" text-anchor=\"middle\">CX</text>\n",
       "  <text x=\"420.00\" y=\"198.00\" text-anchor=\"middle\">CX</text>\n",
       "  <text x=\"420.00\" y=\"246.00\" text-anchor=\"middle\">CX</text>\n",
       "</g>\n",
       "</g>\n",
       "</svg>"
      ],
      "text/plain": [
       "<Figure size 1152x288 with 1 Axes>"
      ]
     },
     "metadata": {},
     "output_type": "display_data"
    }
   ],
   "source": [
    "from qiskit import transpile\n",
    "\n",
    "# Extract the quantum circuit\n",
    "try:\n",
    "    circuit = optimizer.get_circuit()  # This is defined in quantum_solver.py\n",
    "    print(\"✅ QAOA circuit generated.\")\n",
    "except Exception as e:\n",
    "    print(f\"❌ Failed to get circuit: {e}\")\n",
    "    raise\n",
    "\n",
    "# Transpile for cleaner visualization\n",
    "circuit = transpile(circuit, basis_gates=['u', 'cx'], optimization_level=2)\n",
    "\n",
    "# Draw and save\n",
    "plt.figure(figsize=(14, 6))\n",
    "circuit.draw('mpl', style='iqp', scale=0.8)\n",
    "plt.title(\"QAOA Ansatz Circuit (reps=2)\", fontsize=16, pad=20)\n",
    "plt.tight_layout()\n",
    "plt.savefig(\"figures/qaoa_circuit.png\", dpi=150, bbox_inches='tight')\n",
    "plt.show()\n",
    "\n",
    "print(\"🖼️ Saved: figures/qaoa_circuit.png\")"
   ]
  },
  {
   "cell_type": "markdown",
   "metadata": {},
   "source": [
    "### Step 4: Plot Selected Assets"
   ]
  },
  {
   "cell_type": "code",
   "execution_count": 5,
   "metadata": {},
   "outputs": [
    {
     "name": "stdout",
     "output_type": "stream",
     "text": [
      "🖼️ Saved: figures/selected_returns.png\n"
     ]
    },
    {
     "data": {
      "text/plain": [
       "<Figure size 720x432 with 1 Axes>"
      ],
      "image/png": "iVBORw0KGgoAAAANSUhEUgAAAswAAAHUCAYAAABaKU4cAAAAOXRFWHRTb2Z0d2FyZQBNYXRwbG90bGliIEdyYXRlY2hlZXQgNC4yLjAgMjAyMy0wNi0wN2I5YzQ1MmY1ZQAAACV0RVh0ZGF0ZTpjcmVhdGUAMjAyNS0wOC0xMFQwNzo1NDo1OCswMDowMFX55lIAAAAldEVYdGRhdGU6bW9kaWZ5ADIwMjUtMDgtMTBUMDc6NTQ6NTgrMDA6MDB805ZSAAAABHRBTkUA/z8AUKJ9qwAAAAlwSFlzAAAOxAAADsQBlSsOGwAAgABJREFUeJzs3XeYXVWZ9/Hv2qec6p7c1J6QkEBo0gQp0kE6IiAoIiKIIKgI6IgjDmNkRJAxoIiKoqIgKqC00KQjvYcEQkJ66q6q3Pf745xQk5BQk5BQ5/t5nnm69tlnn3322Wefc84+e++11hZSSoiIiIiIiIiIiIiIiIiIiIiIiIiIiIiIiIiIiIiIiIiIiIiIiIiIiIiIiIiIiIiIiIiIiIiIiIiIiIiIiIiIiIiIiIiIiIiIiIiIiIiIiIiIiIiIiIiIiIiIiIiIiIiIiIiIiIiIiIiIiIiIiIiIiIiIiIiIiIiIiIiIiIiIiIiIiIiIiIiIiIiIiIiIiIiIiIiIiIiIiIiIiIiIiIiIiIiIiIiIiIiIiIiIiIiIiIiIiIiIiIiIiIiIiIiIiIiIiIiIiIiIiIiIiIiIiIiIiIiIiIiIiIiIiIiIiIiIiIiIiIiIiIiIiIiIiIiIiIiIiIiIiIiIiIiIiIiIiIiIiIiIiIiIiIiIiIiIiIiIiIiIiIiIiIiIiIiIiIiIiIiIiIiIiIiIiIiIiIiIiIiIiIiIiIiIiIiIiIiIiIiIiIiIiIiIiIiIiIiIiIiIiIiIiIiIiIiIiIiIiIiIiIiIiIiIiIiIiIiIiIiIiIiIiIiIiIiIiIiIiIiI......"
     ],
     "text/plain": [
      "<Figure size 720x432 with 1 Axes>"
     ]
    },
    "metadata": {},
    "output_type": "display_data"
   ],
   "source": [
    "plt.figure(figsize=(10, 5))\n",
    "bars = plt.bar(selected_assets, expected_returns[selected_assets], \n",
    "              color='steelblue', alpha=0.8, edgecolor='black')\n",
    "for i, ret in enumerate(expected_returns[selected_assets]):\n",
    "    plt.text(selected_assets[i], ret + 0.0001, f\"{ret:.4f}\", \n",
    "             ha='center', fontsize=9)\n",
    "plt.title(\"Expected Returns of Selected Assets\", fontsize=14)\n",
    "plt.xlabel(\"Asset Index\")\n",
    "plt.ylabel(\"Expected Daily Return\")\n",
    "plt.grid(axis='y', alpha=0.3)\n",
    "plt.tight_layout()\n",
    "plt.savefig(\"figures/selected_returns.png\", dpi=150, bbox_inches='tight')\n",
    "plt.show()\n",
    "\n",
    "print(\"🖼️ Saved: figures/selected_returns.png\")"
   ]
  }
 ],
 "metadata": {
  "kernelspec": {
   "display_name": "Python 3 (ipykernel)",
   "language": "python",
   "name": "python3"
  },
  "language_info": {
   "codemirror_mode": {
    "name": "ipython",
    "version": 3
   },
   "file_extension": ".py",
   "mimetype": "text/x-python",
   "name": "python",
   "nbconvert_exporter": "python",
   "pygments_lexer": "ipython3",
   "version": "3.9.18"
  }
 },
 "nbformat": 4,
 "nbformat_minor": 4
}
