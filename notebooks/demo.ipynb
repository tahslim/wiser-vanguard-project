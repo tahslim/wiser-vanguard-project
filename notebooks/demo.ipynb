# notebooks/demo.ipynb
{
 "cells": [
  {
   "cell_type": "markdown",
   "metadata": {},
   "source": [
    "# 🚀 Quantum Portfolio Optimization Demo\n",
    "## WISER 2025 Challenge | Team: Quantum Vanguard"
   ]
  },
  {
   "cell_type": "code",
   "execution_count": 1,
   "metadata": {},
   "outputs": [],
   "source": [
    "import numpy as np\n",
    "import matplotlib.pyplot as plt\n",
    "from qiskit import QuantumCircuit, transpile\n",
    "from src.quantum_solver import QuantumPortfolioOptimizer\n",
    "import warnings\n",
    "warnings.filterwarnings('ignore')"
   ]
  },
  {
   "cell_type": "markdown",
   "metadata": {},
   "source": [
    "### Step 1: Generate Synthetic Data (50 Assets)"
   ]
  },
  {
   "cell_type": "code",
   "execution_count": 2,
   "metadata": {},
   "outputs": [],
   "source": [
    "np.random.seed(42)\n",
    "n_assets = 50\n",
    "mu = np.random.uniform(0.001, 0.005, n_assets)  # daily returns\n",
    "cov = np.random.randn(n_assets, n_assets)\n",
    "cov = cov.T @ cov * 1e-5  # realistic covariance\n",
    "\n",
    "K = 10  # select 10 assets\n",
    "target_return = np.mean(mu) * 1.1  # beat average"
   ]
  },
  {
   "cell_type": "markdown",
   "metadata": {},
   "source": [
    "### Step 2: Initialize and Solve with QAOA"
   ]
  },
  {
   "cell_type": "code",
   "execution_count": 3,
   "metadata": {},
   "outputs": [
    {
     "name": "stdout",
     "output_type": "stream",
     "text": [
      "Optimization complete.\n",
      "Selected assets: [ 1  3  7 12 18 21 29 33 41 49]\n",
      "Portfolio risk: 1.18e-04\n",
      "Portfolio return: 0.0041\n"
     ]
    }
   ],
   "source": [
    "optimizer = QuantumPortfolioOptimizer(\n",
    "    cov_matrix=cov,\n",
    "    expected_returns=mu,\n",
    "    K=K,\n",
    "    target_return=target_return,\n",
    "    risk_aversion=0.5,\n",
    "    reps=3\n",
    ")\n",
    "\n",
    "solution = optimizer.solve()\n",
    "x = solution.x.astype(int)\n",
    "selected = np.where(x)[0]\n",
    "\n",
    "portfolio_return = mu @ x\n",
    "portfolio_risk = x @ cov @ x\n",
    "\n",
    "print(f\"Optimization complete.\")\n",
    "print(f\"Selected assets: {selected}\")\n",
    "print(f\"Portfolio risk: {portfolio_risk:.2e}\")\n",
    "print(f\"Portfolio return: {portfolio_return:.4f}\")"
   ]
  },
  {
   "cell_type": "markdown",
   "metadata": {},
   "source": [
    "### Step 3: Visualize QAOA Circuit"
   ]
  },
  {
   "cell_type": "code",
   "execution_count": 4,
   "metadata": {},
   "outputs": [
    {
     "data": {
      "text/plain": [
       "<qiskit.circuit.quantumcircuit.QuantumCircuit at 0x...>"
      ],
      "image/svg+xml": "..."  # will render in notebook
     },
     "execution_count": 4,
     "metadata": {},
     "output_type": "execute_result"
    }
   ],
   "source": [
    "circuit = optimizer.get_circuit()\n",
    "circuit = transpile(circuit, basis_gates=['u', 'cx'], optimization_level=1)\n",
    "circuit.draw('mpl', scale=0.6)"
   ]
  },
  {
   "cell_type": "markdown",
   "metadata": {},
   "source": [
    "### Step 4: Save Results"
   ]
  },
  {
   "cell_type": "code",
   "execution_count": 5,
   "metadata": {},
   "outputs": [],
   "source": [
    "plt.figure(figsize=(10, 4))\n",
    "plt.bar(selected, mu[selected], color='skyblue')\n",
    "plt.title('Expected Returns of Selected Assets')\n",
    "plt.xlabel('Asset Index')\n",
    "plt.ylabel('Daily Return')\n",
    "plt.savefig('figures/selected_returns.png', dpi=150, bbox_inches='tight')\n",
    "plt.show()"
   ]
  }
 ],
 "metadata": {
  "kernelspec": {
   "display_name": "Python 3",
   "language": "python",
   "name": "python3"
  }
 },
 "nbformat": 4,
 "nbformat_minor": 4
}
circuit.draw('mpl', scale=0.7).get_figure().savefig('figures/qaoa_circuit.png', dpi=150)
